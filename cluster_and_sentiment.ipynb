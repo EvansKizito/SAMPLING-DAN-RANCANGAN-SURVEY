{
 "cells": [
  {
   "cell_type": "markdown",
   "id": "18f86d5d",
   "metadata": {},
   "source": [
    "# Clustering and Sentiment Analysis\n",
    "Notebook ini memuat langkah-langkah untuk melakukan klasterisasi data dan analisis sentimen menggunakan IndoBERT."
   ]
  },
  {
   "cell_type": "code",
   "execution_count": null,
   "id": "6f2d429c",
   "metadata": {},
   "outputs": [],
   "source": [
    "import pandas as pd\n",
    "from sklearn.preprocessing import StandardScaler\n",
    "from sklearn.cluster import KMeans\n",
    "from transformers import pipeline"
   ]
  },
  {
   "cell_type": "code",
   "execution_count": null,
   "id": "0844c354",
   "metadata": {},
   "outputs": [],
   "source": [
    "# Load dataset\n",
    "csv_path = 'prepared.csv'\n",
    "df = pd.read_csv(csv_path)"
   ]
  },
  {
   "cell_type": "code",
   "execution_count": null,
   "id": "f68acbd9",
   "metadata": {},
   "outputs": [],
   "source": [
    "# Pilih kolom likert (5 sampai 49)\n",
    "likert_cols = df.columns[5:50]\n",
    "X = df[likert_cols].apply(pd.to_numeric, errors='coerce').fillna(0)"
   ]
  },
  {
   "cell_type": "code",
   "execution_count": null,
   "id": "2f2a2886",
   "metadata": {},
   "outputs": [],
   "source": [
    "# Standarisasi dan klasterisasi\n",
    "scaler = StandardScaler()\n",
    "X_scaled = scaler.fit_transform(X)\n",
    "\n",
    "kmeans = KMeans(n_clusters=3, random_state=42)\n",
    "df['cluster'] = kmeans.fit_predict(X_scaled)"
   ]
  },
  {
   "cell_type": "code",
   "execution_count": null,
   "id": "f717e4a5",
   "metadata": {},
   "outputs": [],
   "source": [
    "# Analisis sentimen menggunakan IndoBERT\n",
    "text_col = df.columns[50]\n",
    "sentiment_pipeline = pipeline(\n",
    "    'sentiment-analysis',\n",
    "    model='w11wo/indonesian-roberta-base-sentiment-classifier',\n",
    ")\n",
    "label_to_score = {'positive': 1.0, 'neutral': 0.0, 'negative': -1.0}\n",
    "\n",
    "def get_polarity(text: str) -> float:\n",
    "    if pd.isna(text) or not str(text).strip():\n",
    "        return 0.0\n",
    "    result = sentiment_pipeline(str(text))[0]\n",
    "    label = result.get('label', 'neutral').lower()\n",
    "    score = result.get('score', 0.0)\n",
    "    return score * label_to_score.get(label, 0.0)\n",
    "\n",
    "df['sentiment'] = df[text_col].apply(get_polarity)"
   ]
  },
  {
   "cell_type": "code",
   "execution_count": null,
   "id": "860c3132",
   "metadata": {},
   "outputs": [],
   "source": [
    "# Ringkasan hasil\n",
    "cluster_counts = df['cluster'].value_counts().sort_index()\n",
    "print('Cluster counts:')\n",
    "print(cluster_counts)\n",
    "\n",
    "print('\n",
    "Sentiment polarity summary:')\n",
    "print(df['sentiment'].describe())"
   ]
  },
  {
   "cell_type": "code",
   "execution_count": null,
   "id": "584871f5",
   "metadata": {},
   "outputs": [],
   "source": [
    "# Simpan ke file\n",
    "output_csv = 'cluster_sentiment_output.csv'\n",
    "df.to_csv(output_csv, index=False)\n",
    "print(f'Results written to {output_csv}')"
   ]
  }
 ],
 "metadata": {},
 "nbformat": 4,
 "nbformat_minor": 5
}
