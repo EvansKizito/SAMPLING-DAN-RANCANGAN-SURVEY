{
 "cells": [
  {
   "cell_type": "markdown",
   "id": "cb67c986",
   "metadata": {},
   "source": [
    "# Eksplorasi dan Visualisasi Data"
   ]
  },
  {
   "cell_type": "markdown",
   "id": "55c4e0e0",
   "metadata": {},
   "source": [
    "Notebook ini melakukan eksplorasi dasar pada hasil survei mahasiswa."
   ]
  },
  {
   "cell_type": "code",
   "execution_count": null,
   "id": "682b850d",
   "metadata": {},
   "outputs": [],
   "source": [
    "import pandas as pd\n",
    "import matplotlib.pyplot as plt\n",
    "import seaborn as sns\n",
    "%matplotlib inline\n"
   ]
  },
  {
   "cell_type": "code",
   "execution_count": null,
   "id": "4d9be310",
   "metadata": {},
   "outputs": [],
   "source": [
    "df = pd.read_csv('cluster_sentiment_output_clean.csv')\n",
    "print(df.shape)\n",
    "df.head()"
   ]
  },
  {
   "cell_type": "code",
   "execution_count": null,
   "id": "2c02228f",
   "metadata": {},
   "outputs": [],
   "source": [
    "df.info()"
   ]
  },
  {
   "cell_type": "code",
   "execution_count": null,
   "id": "530d4e35",
   "metadata": {},
   "outputs": [],
   "source": [
    "print('Program Studi')\n",
    "print(df['Program Studi'].value_counts())\n",
    "print('\n",
    "Angkatan')\n",
    "print(df['Angkatan'].value_counts())"
   ]
  },
  {
   "cell_type": "markdown",
   "id": "f3519336",
   "metadata": {},
   "source": [
    "## Menghitung rata-rata tiap mata kuliah"
   ]
  },
  {
   "cell_type": "code",
   "execution_count": null,
   "id": "4f6f8c8f",
   "metadata": {},
   "outputs": [],
   "source": [
    "\n",
    "fisika_cols = [c for c in df.columns if '[Fisika' in c]\n",
    "kimia_cols = [c for c in df.columns if '[Kimia' in c]\n",
    "biologi_cols = [c for c in df.columns if '[Biologi' in c]\n",
    "for cols in [fisika_cols, kimia_cols, biologi_cols]:\n",
    "    df[cols] = df[cols].apply(pd.to_numeric, errors='coerce')\n",
    "\n",
    "df['avg_fisika'] = df[fisika_cols].mean(axis=1)\n",
    "df['avg_kimia'] = df[kimia_cols].mean(axis=1)\n",
    "df['avg_biologi'] = df[biologi_cols].mean(axis=1)\n",
    "df[['avg_fisika','avg_kimia','avg_biologi']].head()"
   ]
  },
  {
   "cell_type": "code",
   "execution_count": null,
   "id": "9efbe9e5",
   "metadata": {},
   "outputs": [],
   "source": [
    "\n",
    "mean_by_study = df.groupby('Program Studi')[['avg_fisika','avg_kimia','avg_biologi']].mean()\n",
    "mean_by_study.plot(kind='bar')\n",
    "plt.ylabel('Rata-rata Skor')\n",
    "plt.title('Rata-rata Skor Likert per Program Studi')\n",
    "plt.show()"
   ]
  },
  {
   "cell_type": "code",
   "execution_count": null,
   "id": "2478e7f5",
   "metadata": {},
   "outputs": [],
   "source": [
    "\n",
    "cluster_counts = df['cluster'].value_counts().sort_index()\n",
    "cluster_counts.plot(kind='bar')\n",
    "plt.xlabel('Cluster')\n",
    "plt.ylabel('Jumlah Responden')\n",
    "plt.title('Distribusi Cluster')\n",
    "plt.show()"
   ]
  },
  {
   "cell_type": "code",
   "execution_count": null,
   "id": "0454e882",
   "metadata": {},
   "outputs": [],
   "source": [
    "\n",
    "df['sentiment'].hist(bins=20)\n",
    "plt.xlabel('Sentiment Polarity')\n",
    "plt.ylabel('Frekuensi')\n",
    "plt.title('Distribusi Sentiment')\n",
    "plt.show()"
   ]
  }
 ],
 "metadata": {},
 "nbformat": 4,
 "nbformat_minor": 5
}
