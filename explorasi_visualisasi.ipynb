{
 "cells": [
  {
   "cell_type": "markdown",
   "id": "cb67c986",
   "metadata": {},
   "source": [
    "# Eksplorasi dan Visualisasi Data"
   ]
  },
  {
   "cell_type": "markdown",
   "id": "55c4e0e0",
   "metadata": {},
   "source": [
    "Notebook ini melakukan eksplorasi dasar pada hasil survei mahasiswa."
   ]
  },
  {
   "cell_type": "code",
   "execution_count": null,
   "id": "682b850d",
   "metadata": {},
   "outputs": [],
   "source": [
    "import pandas as pd\n",
    "import matplotlib.pyplot as plt\n",
    "import seaborn as sns\n",
    "%matplotlib inline\n"
   ]
  },
  {
   "cell_type": "code",
   "execution_count": null,
   "id": "4d9be310",
   "metadata": {},
   "outputs": [],
   "source": [
    "df = pd.read_csv('cluster_sentiment_output.csv')\n",
    "print(df.shape)\n",
    "df.head()"
   ]
  },
  {
   "cell_type": "code",
   "execution_count": null,
   "id": "2c02228f",
   "metadata": {},
   "outputs": [],
   "source": [
    "df.info()"
   ]
  },
  {
   "cell_type": "code",
   "execution_count": null,
   "id": "530d4e35",
   "metadata": {},
   "outputs": [],
   "source": [
    "print('Program Studi')\n",
    "print(df['Program Studi'].value_counts())\n",
    "print('\n",
    "Angkatan')\n",
    "print(df['Angkatan'].value_counts())"
   ]
  },
  {
   "cell_type": "markdown",
   "id": "f3519336",
   "metadata": {},
   "source": [
    "## Menghitung rata-rata tiap mata kuliah"
   ]
  },
  {
   "cell_type": "code",
   "execution_count": null,
   "id": "4f6f8c8f",
   "metadata": {},
   "outputs": [],
   "source": [
    "\n",
    "fisika_cols = [c for c in df.columns if '[Fisika' in c]\n",
    "kimia_cols = [c for c in df.columns if '[Kimia' in c]\n",
    "biologi_cols = [c for c in df.columns if '[Biologi' in c]\n",
    "for cols in [fisika_cols, kimia_cols, biologi_cols]:\n",
    "    df[cols] = df[cols].apply(pd.to_numeric, errors='coerce')\n",
    "\n",
    "df['avg_fisika'] = df[fisika_cols].mean(axis=1)\n",
    "df['avg_kimia'] = df[kimia_cols].mean(axis=1)\n",
    "df['avg_biologi'] = df[biologi_cols].mean(axis=1)\n",
    "df[['avg_fisika','avg_kimia','avg_biologi']].head()"
   ]
  },
  {
   "cell_type": "code",
   "execution_count": null,
   "id": "9efbe9e5",
   "metadata": {},
   "outputs": [],
   "source": [
    "\n",
    "mean_by_study = df.groupby('Program Studi')[['avg_fisika','avg_kimia','avg_biologi']].mean()\n",
    "mean_by_study.plot(kind='bar')\n",
    "plt.ylabel('Rata-rata Skor')\n",
    "plt.title('Rata-rata Skor Likert per Program Studi')\n",
    "plt.show()"
   ]
  },
  {
   "cell_type": "code",
   "execution_count": null,
   "id": "2478e7f5",
   "metadata": {},
   "outputs": [],
   "source": [
    "\n",
    "cluster_counts = df['cluster'].value_counts().sort_index()\n",
    "cluster_counts.plot(kind='bar')\n",
    "plt.xlabel('Cluster')\n",
    "plt.ylabel('Jumlah Responden')\n",
    "plt.title('Distribusi Cluster')\n",
    "plt.show()"
   ]
  },
  {
   "cell_type": "code",
   "execution_count": null,
   "id": "0454e882",
   "metadata": {},
   "outputs": [],
   "source": [
    "\n",
    "df['sentiment'].hist(bins=20)\n",
    "plt.xlabel('Sentiment Polarity')\n",
    "plt.ylabel('Frekuensi')\n",
    "plt.title('Distribusi Sentiment')\n",
    "plt.show()"
   ]
  },
  {
   "cell_type": "markdown",
   "id": "dccdd45f",
   "metadata": {},
   "source": [
    "## Korelasi Antar Pertanyaan Likert"
   ]
  },
  {
   "cell_type": "code",
   "execution_count": null,
   "id": "3563866a",
   "metadata": {},
   "outputs": [],
   "source": [
    "\n",
    "# Korelasi antar pertanyaan Likert\n",
    "likert_cols = [c for c in df.columns if '[' in c and 'Pernah' not in c]\n",
    "likert_df = df[likert_cols].apply(pd.to_numeric, errors='coerce')\n",
    "plt.figure(figsize=(12,10))\n",
    "sns.heatmap(likert_df.corr(), cmap='coolwarm', center=0)\n",
    "plt.title('Korelasi Pertanyaan Likert')\n",
    "plt.show()\n"
   ]
  },
  {
   "cell_type": "markdown",
   "id": "df811e5a",
   "metadata": {},
   "source": [
    "## Profil Tiap Cluster"
   ]
  },
  {
   "cell_type": "code",
   "execution_count": null,
   "id": "655c2bff",
   "metadata": {},
   "outputs": [],
   "source": [
    "\n",
    "# Profil rata-rata skor tiap mata kuliah per cluster\n",
    "cluster_profile = df.groupby('cluster')[['avg_fisika','avg_kimia','avg_biologi']].mean()\n",
    "cluster_profile.plot(kind='bar')\n",
    "plt.ylabel('Rata-rata Skor')\n",
    "plt.title('Profil Cluster berdasarkan Mata Kuliah')\n",
    "plt.show()\n"
   ]
  },
  {
   "cell_type": "markdown",
   "id": "89e96060",
   "metadata": {},
   "source": [
    "## Distribusi Cluster menurut Status Pernah Mengambil Mata Kuliah"
   ]
  },
  {
   "cell_type": "code",
   "execution_count": null,
   "id": "82cd8533",
   "metadata": {},
   "outputs": [],
   "source": [
    "\n",
    "# Distribusi cluster berdasarkan status pernah mengambil mata kuliah\n",
    "for course in ['Fisika','Kimia','Biologi']:\n",
    "    col = f'Pernah_{course}'\n",
    "    ctab = pd.crosstab(df[col], df['cluster'])\n",
    "    ctab.plot(kind='bar', stacked=True)\n",
    "    plt.title(f'Distribusi Cluster vs {col}')\n",
    "    plt.xlabel(col)\n",
    "    plt.ylabel('Jumlah')\n",
    "    plt.show()\n"
   ]
  },
  {
   "cell_type": "markdown",
   "id": "83c5433e",
   "metadata": {},
   "source": [
    "## Boxplot Sentimen"
   ]
  },
  {
   "cell_type": "code",
   "execution_count": null,
   "id": "a37e9ee5",
   "metadata": {},
   "outputs": [],
   "source": [
    "\n",
    "# Boxplot sentimen per Program Studi dan Angkatan\n",
    "plt.figure(figsize=(12,6))\n",
    "sns.boxplot(x='Program Studi', y='sentiment', data=df)\n",
    "plt.title('Sebaran Sentimen per Program Studi')\n",
    "plt.xticks(rotation=45)\n",
    "plt.show()\n",
    "\n",
    "plt.figure(figsize=(12,6))\n",
    "sns.boxplot(x='Angkatan', y='sentiment', data=df)\n",
    "plt.title('Sebaran Sentimen per Angkatan')\n",
    "plt.show()\n"
   ]
  }
 ],
 "metadata": {},
 "nbformat": 4,
 "nbformat_minor": 5
}
